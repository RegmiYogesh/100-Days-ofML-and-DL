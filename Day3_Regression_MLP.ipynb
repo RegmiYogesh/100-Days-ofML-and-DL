{
 "cells": [
  {
   "cell_type": "markdown",
   "id": "b6342a23-ec4a-461d-84f8-5f327ba1be07",
   "metadata": {},
   "source": [
    "# Building a Regression MLP using the Sequential API"
   ]
  },
  {
   "cell_type": "markdown",
   "id": "2be52acb-3b29-4027-a353-a9b7ce1ac3c6",
   "metadata": {},
   "source": [
    "for this project we are using california housing datasets "
   ]
  },
  {
   "cell_type": "code",
   "execution_count": 3,
   "id": "b67a2548-c2a3-4e78-a477-aa5e110d81ba",
   "metadata": {},
   "outputs": [],
   "source": [
    "from sklearn.datasets import fetch_california_housing\n",
    "from sklearn.model_selection import train_test_split\n",
    "from sklearn.preprocessing import StandardScaler"
   ]
  },
  {
   "cell_type": "code",
   "execution_count": 1,
   "id": "d19536e1",
   "metadata": {},
   "outputs": [],
   "source": [
    "from tensorflow import keras"
   ]
  },
  {
   "cell_type": "code",
   "execution_count": 4,
   "id": "0f8f62f3-e26d-4dfd-bc4e-a44fb18dd478",
   "metadata": {},
   "outputs": [],
   "source": [
    "housing= fetch_california_housing()"
   ]
  },
  {
   "cell_type": "code",
   "execution_count": 5,
   "id": "3ec618e1-3e1e-4ce2-a3ca-cb0eb9df28a0",
   "metadata": {},
   "outputs": [],
   "source": [
    "x_train_full,x_test,y_train_full,y_test=train_test_split(housing.data,housing.target)"
   ]
  },
  {
   "cell_type": "code",
   "execution_count": 6,
   "id": "6dab8c82-bb1a-451c-98f7-c9526ca99bb1",
   "metadata": {},
   "outputs": [],
   "source": [
    "x_train,x_valid,y_train,y_valid=train_test_split(x_train_full,y_train_full)"
   ]
  },
  {
   "cell_type": "markdown",
   "id": "64cf6c66-f223-4270-a3d0-51336b6016b4",
   "metadata": {},
   "source": [
    "Scaling the data"
   ]
  },
  {
   "cell_type": "code",
   "execution_count": 7,
   "id": "fcc81e88-5675-421d-a8c7-bfbd21e7d315",
   "metadata": {},
   "outputs": [],
   "source": [
    "scaler=StandardScaler()"
   ]
  },
  {
   "cell_type": "code",
   "execution_count": 8,
   "id": "c2137b52-ffc0-42b9-8b78-d628936292e9",
   "metadata": {},
   "outputs": [],
   "source": [
    "x_train_scaled=scaler.fit_transform(x_train)\n",
    "x_test_scaled=scaler.fit_transform(x_test)\n",
    "x_valid_scaled=scaler.fit_transform(x_valid)"
   ]
  },
  {
   "cell_type": "markdown",
   "id": "2dc7798c-f7b3-4762-a907-7130d3a27d48",
   "metadata": {},
   "source": [
    "Building, training, evaluating and using a regression MLP using the Sequentisl API to make predictions is quite similar to what we did for classification. The main difference are the fact that the output layer has a single neuron (since we only want to predict a single value) and uses no activation function, and the loss function is the mean squared error. Since the dataset is quite noisy, we just use a single hidden layer with few neurons than before, to avoid overfitting"
   ]
  },
  {
   "cell_type": "code",
   "execution_count": 9,
   "id": "a1790057-9f48-4d12-b89f-5b5ed3c6a578",
   "metadata": {},
   "outputs": [
    {
     "data": {
      "text/plain": [
       "(11610, 8)"
      ]
     },
     "execution_count": 9,
     "metadata": {},
     "output_type": "execute_result"
    }
   ],
   "source": [
    "x_train.shape"
   ]
  },
  {
   "cell_type": "markdown",
   "id": "bb5d1a3c-0658-4eed-8bd8-647464d5e4cf",
   "metadata": {},
   "source": [
    "# Building a model"
   ]
  },
  {
   "cell_type": "code",
   "execution_count": null,
   "id": "88549150-864b-46f6-8b67-71f5c904688e",
   "metadata": {},
   "outputs": [],
   "source": []
  }
 ],
 "metadata": {
  "kernelspec": {
   "display_name": "Python 3 (ipykernel)",
   "language": "python",
   "name": "python3"
  },
  "language_info": {
   "codemirror_mode": {
    "name": "ipython",
    "version": 3
   },
   "file_extension": ".py",
   "mimetype": "text/x-python",
   "name": "python",
   "nbconvert_exporter": "python",
   "pygments_lexer": "ipython3",
   "version": "3.10.13"
  }
 },
 "nbformat": 4,
 "nbformat_minor": 5
}

{
 "cells": [
  {
   "cell_type": "markdown",
   "id": "9508b27a-5011-4bf4-a5f9-53a32b8969a0",
   "metadata": {},
   "source": [
    "# Building Dynamic Models using the Subclass API"
   ]
  },
  {
   "cell_type": "markdown",
   "id": "30f9bcb5-4355-4917-b563-5c3dbe61ac47",
   "metadata": {},
   "source": [
    "Both the Sequential API and the Functional API are declarative: you start by declaring which layers you want to use and how they should be connected, and only then you can start feeding the module some data for training or inference. This has many advantages: the model can easily be saved, cloned, shared, its structure can be displayed and analyzed, the framework can infer shapes and check types, so error can be caught easily . It's also fairly easy to debug, since the whole model is just a static graph of layers"
   ]
  },
  {
   "cell_type": "markdown",
   "id": "65ab73e2-f296-47d6-b9d7-0d1bf41842b6",
   "metadata": {},
   "source": [
    "But the flip side is just that: it's static . Some models involve loops, varying shape, conditional branching, other dynamic behaviors. For such cases, or simply if you prefer a more imperative programming style, the Subclass API is for you"
   ]
  },
  {
   "cell_type": "code",
   "execution_count": 7,
   "id": "5ca46687-623d-4138-a25c-2a0ae4cfad85",
   "metadata": {},
   "outputs": [],
   "source": [
    "from tensorflow import keras\n",
    "class WideAndDeepModel(keras.models.Model):\n",
    "    def __init__(self,units=30, activation=\"relu\",**kwargs):\n",
    "        super().__init__(*kwargs)#handle stangard args (eg Name)\n",
    "        self.hidden1=keras.layers.Dense(units,activation=activation)\n",
    "        self.hidden2=keras.layers.Dense(units,activation=activation)\n",
    "        self.main_output=keras.layers.Dense(1)\n",
    "        self.aux_output=keras.layers.Dense(1)\n",
    "        \n",
    "    def call(self, inputs):\n",
    "        input_A, input_B=inputs\n",
    "        hidden_1=self.hidden1(input_B)\n",
    "        hidden_2=self.hidden2(hidden1)\n",
    "        concat=keras.layers.concatenate([input_A,hidden2])\n",
    "        main_output=self.main_output(concat)\n",
    "        aux_output=self.aux_output(hidden2)\n",
    "        return main_output, aux_output\n",
    "  "
   ]
  },
  {
   "cell_type": "code",
   "execution_count": 8,
   "id": "f876a56e",
   "metadata": {},
   "outputs": [],
   "source": [
    "  model=WideAndDeepModel()"
   ]
  },
  {
   "cell_type": "code",
   "execution_count": null,
   "id": "495d8d29",
   "metadata": {},
   "outputs": [],
   "source": []
  }
 ],
 "metadata": {
  "kernelspec": {
   "display_name": "Python 3 (ipykernel)",
   "language": "python",
   "name": "python3"
  },
  "language_info": {
   "codemirror_mode": {
    "name": "ipython",
    "version": 3
   },
   "file_extension": ".py",
   "mimetype": "text/x-python",
   "name": "python",
   "nbconvert_exporter": "python",
   "pygments_lexer": "ipython3",
   "version": "3.10.13"
  }
 },
 "nbformat": 4,
 "nbformat_minor": 5
}

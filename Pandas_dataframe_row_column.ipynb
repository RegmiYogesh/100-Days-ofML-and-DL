{
 "cells": [
  {
   "cell_type": "markdown",
   "id": "58630f77",
   "metadata": {},
   "source": [
    "# Write CSV"
   ]
  },
  {
   "cell_type": "code",
   "execution_count": 12,
   "id": "e527257a",
   "metadata": {},
   "outputs": [],
   "source": [
    "header=['Index','Customer_Id','First_Name','Last_Name','Company','City','Country','Phone1','Phone2','Email','Subscription_Date','Website']"
   ]
  },
  {
   "cell_type": "code",
   "execution_count": 13,
   "id": "435232e8",
   "metadata": {},
   "outputs": [],
   "source": [
    "string='1,DD37Cf93aecA6Dc,Sheryl,Baxter,Rasmussen Group,East Leonard,Chile,229.077.5154,397.884.0519x718,zunigavanessa@smith.info,2020-08-24,http://www.stephenson.com/'"
   ]
  },
  {
   "cell_type": "code",
   "execution_count": 14,
   "id": "eb3c7c12",
   "metadata": {},
   "outputs": [
    {
     "name": "stdout",
     "output_type": "stream",
     "text": [
      "\"1\", \"DD37Cf93aecA6Dc\", \"Sheryl\", \"Baxter\", \"Rasmussen Group\", \"East Leonard\", \"Chile\", \"229.077.5154\", \"397.884.0519x718\", \"zunigavanessa@smith.info\", \"2020-08-24\", \"http://www.stephenson.com/\"\n"
     ]
    }
   ],
   "source": [
    "string = ', '.join([f'\"{x}\"' for x in string.split(',')])\n",
    "print(string)"
   ]
  },
  {
   "cell_type": "code",
   "execution_count": 20,
   "id": "fa386eb0",
   "metadata": {},
   "outputs": [],
   "source": [
    "data=[\"1\", \"DD37Cf93aecA6Dc\", \"Sheryl\", \"Baxter\", \"Rasmussen Group\", \"East Leonard\", \"Chile\", \"229.077.5154\", \"397.884.0519x718\", \"zunigavanessa@smith.info\", \"2020-08-24\", \"http://www.stephenson.com/\"]"
   ]
  },
  {
   "cell_type": "code",
   "execution_count": 21,
   "id": "2c0bc2f0",
   "metadata": {},
   "outputs": [
    {
     "name": "stdout",
     "output_type": "stream",
     "text": [
      "Data written to people.csv\n"
     ]
    }
   ],
   "source": [
    "import csv\n",
    "\n",
    "# Data to be written to the CSV file\n",
    "data = [\n",
    "    ['Name', 'Age', 'City'],\n",
    "    ['Alice', 28, 'New York'],\n",
    "    ['Bob', 22, 'San Francisco'],\n",
    "    ['Charlie', 35, 'Los Angeles']\n",
    "]\n",
    "\n",
    "# Name of the CSV file\n",
    "filename = 'people.csv'\n",
    "\n",
    "# Writing to the CSV file\n",
    "with open(filename, 'w', newline='') as csvfile:\n",
    "    writer = csv.writer(csvfile)\n",
    "    \n",
    "    # Writing the data\n",
    "    for row in data:\n",
    "        writer.writerow(row)\n",
    "\n",
    "print(f'Data written to {filename}')\n"
   ]
  },
  {
   "cell_type": "code",
   "execution_count": 34,
   "id": "80083c21",
   "metadata": {},
   "outputs": [],
   "source": [
    "import pandas as pd"
   ]
  },
  {
   "cell_type": "code",
   "execution_count": 35,
   "id": "4c852b6f",
   "metadata": {},
   "outputs": [],
   "source": [
    "data=pd.read_csv('people.csv')"
   ]
  },
  {
   "cell_type": "code",
   "execution_count": 38,
   "id": "144565de",
   "metadata": {},
   "outputs": [
    {
     "data": {
      "text/html": [
       "<div>\n",
       "<style scoped>\n",
       "    .dataframe tbody tr th:only-of-type {\n",
       "        vertical-align: middle;\n",
       "    }\n",
       "\n",
       "    .dataframe tbody tr th {\n",
       "        vertical-align: top;\n",
       "    }\n",
       "\n",
       "    .dataframe thead th {\n",
       "        text-align: right;\n",
       "    }\n",
       "</style>\n",
       "<table border=\"1\" class=\"dataframe\">\n",
       "  <thead>\n",
       "    <tr style=\"text-align: right;\">\n",
       "      <th></th>\n",
       "      <th>Name</th>\n",
       "      <th>Age</th>\n",
       "    </tr>\n",
       "  </thead>\n",
       "  <tbody>\n",
       "    <tr>\n",
       "      <th>0</th>\n",
       "      <td>Alice</td>\n",
       "      <td>28</td>\n",
       "    </tr>\n",
       "    <tr>\n",
       "      <th>1</th>\n",
       "      <td>Bob</td>\n",
       "      <td>22</td>\n",
       "    </tr>\n",
       "    <tr>\n",
       "      <th>2</th>\n",
       "      <td>Charlie</td>\n",
       "      <td>35</td>\n",
       "    </tr>\n",
       "  </tbody>\n",
       "</table>\n",
       "</div>"
      ],
      "text/plain": [
       "      Name  Age\n",
       "0    Alice   28\n",
       "1      Bob   22\n",
       "2  Charlie   35"
      ]
     },
     "execution_count": 38,
     "metadata": {},
     "output_type": "execute_result"
    }
   ],
   "source": [
    "data.iloc[:,:2]"
   ]
  },
  {
   "cell_type": "code",
   "execution_count": null,
   "id": "8b41340a",
   "metadata": {},
   "outputs": [],
   "source": []
  }
 ],
 "metadata": {
  "kernelspec": {
   "display_name": "Python 3 (ipykernel)",
   "language": "python",
   "name": "python3"
  },
  "language_info": {
   "codemirror_mode": {
    "name": "ipython",
    "version": 3
   },
   "file_extension": ".py",
   "mimetype": "text/x-python",
   "name": "python",
   "nbconvert_exporter": "python",
   "pygments_lexer": "ipython3",
   "version": "3.10.13"
  }
 },
 "nbformat": 4,
 "nbformat_minor": 5
}

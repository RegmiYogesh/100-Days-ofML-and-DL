{
 "cells": [
  {
   "cell_type": "code",
   "execution_count": null,
   "id": "6dec457a-8c45-4d50-8f96-dac35306c6c3",
   "metadata": {},
   "outputs": [],
   "source": [
    "def build_model(n_hidden=1, n_neuron=30, learning_rate=3e-3, "
   ]
  }
 ],
 "metadata": {
  "kernelspec": {
   "display_name": "Python 3 (ipykernel)",
   "language": "python",
   "name": "python3"
  },
  "language_info": {
   "codemirror_mode": {
    "name": "ipython",
    "version": 3
   },
   "file_extension": ".py",
   "mimetype": "text/x-python",
   "name": "python",
   "nbconvert_exporter": "python",
   "pygments_lexer": "ipython3",
   "version": "3.12.1"
  }
 },
 "nbformat": 4,
 "nbformat_minor": 5
}

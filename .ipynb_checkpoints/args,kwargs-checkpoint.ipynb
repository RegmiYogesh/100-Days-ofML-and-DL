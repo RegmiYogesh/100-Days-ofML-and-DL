{
 "cells": [
  {
   "cell_type": "markdown",
   "id": "47ec0443",
   "metadata": {},
   "source": [
    "# What is python *args?"
   ]
  },
  {
   "cell_type": "markdown",
   "id": "5b9d2abb",
   "metadata": {},
   "source": [
    "The special syntax *args in function definitions in Python is used to pass a variable number of arguments to a function. It is used to pass a non-keyworded, variable-length argument list.\n",
    "1. The syntax is to use the symboll * to take in a variable number of arguments, by convention, it is often used with the word args.\n",
    "2. What *args allows you to do is take in more argumnets than the number of formal argeuments that you previously define. with *args any number of extra argumnebts can be tacked on to your current formal parameters (including zero extra argemnets).\n",
    "    For example , we want to make a multiply function that takes any number of argumnents and is able to multiply them all together. It can be done using *args.\n",
    "    "
   ]
  },
  {
   "cell_type": "code",
   "execution_count": 16,
   "id": "53db756c-6ba3-4570-bd92-08a9046a7a6c",
   "metadata": {},
   "outputs": [],
   "source": [
    "#*args\n",
    "def person1(name,*args):\n",
    "    print(name)\n",
    "    print(args)\n",
    "# we are definitely sure that name will pass compulsory but other parameters are optional  "
   ]
  },
  {
   "cell_type": "code",
   "execution_count": 17,
   "id": "e3824798-ce5d-4b93-974a-6d2632eac2b1",
   "metadata": {},
   "outputs": [
    {
     "name": "stdout",
     "output_type": "stream",
     "text": [
      "yogesh\n",
      "()\n"
     ]
    }
   ],
   "source": [
    "person1('yogesh')"
   ]
  },
  {
   "cell_type": "code",
   "execution_count": 19,
   "id": "94c9bccc-6c14-483f-b529-134e8e1b5d98",
   "metadata": {},
   "outputs": [
    {
     "name": "stdout",
     "output_type": "stream",
     "text": [
      "yogesh\n",
      "(25, 165, 65, 9779867176736)\n"
     ]
    }
   ],
   "source": [
    "# name and blank touple() nice\n",
    "# i want to pass my name, age , height, weight, and phone number\n",
    "person1('yogesh',25,165, 65, 9779867176736)"
   ]
  },
  {
   "cell_type": "code",
   "execution_count": 8,
   "id": "935bad84-0b6e-48e4-8d75-d69797b615f7",
   "metadata": {},
   "outputs": [],
   "source": [
    "# it seem right but we also face the problem to distinguish which one is age, whichich one is weight and so on\n",
    "# what if pass variables with its key value during function call ... lets try"
   ]
  },
  {
   "cell_type": "code",
   "execution_count": 20,
   "id": "468ff09a-0d4d-49df-b33e-dd530ba40701",
   "metadata": {},
   "outputs": [
    {
     "ename": "TypeError",
     "evalue": "person1() got an unexpected keyword argument 'age'",
     "output_type": "error",
     "traceback": [
      "\u001b[1;31m---------------------------------------------------------------------------\u001b[0m",
      "\u001b[1;31mTypeError\u001b[0m                                 Traceback (most recent call last)",
      "Cell \u001b[1;32mIn[20], line 1\u001b[0m\n\u001b[1;32m----> 1\u001b[0m person1(\u001b[38;5;124m'\u001b[39m\u001b[38;5;124myogesh\u001b[39m\u001b[38;5;124m'\u001b[39m,age\u001b[38;5;241m=\u001b[39m\u001b[38;5;241m25\u001b[39m,height\u001b[38;5;241m=\u001b[39m\u001b[38;5;124m'\u001b[39m\u001b[38;5;124m165cm\u001b[39m\u001b[38;5;124m'\u001b[39m,weight\u001b[38;5;241m=\u001b[39m\u001b[38;5;124m'\u001b[39m\u001b[38;5;124m65kg\u001b[39m\u001b[38;5;124m'\u001b[39m,phnno\u001b[38;5;241m=\u001b[39m\u001b[38;5;124m'\u001b[39m\u001b[38;5;124m+9779867176736\u001b[39m\u001b[38;5;124m'\u001b[39m)\n",
      "\u001b[1;31mTypeError\u001b[0m: person1() got an unexpected keyword argument 'age'"
     ]
    }
   ],
   "source": [
    "person1('yogesh',age=25,height='165cm',weight='65kg',phnno='+9779867176736')"
   ]
  },
  {
   "cell_type": "markdown",
   "id": "d8f52b09-110f-4fb0-b65c-8fd00b7629aa",
   "metadata": {},
   "source": [
    "# thats the problem with *args"
   ]
  },
  {
   "cell_type": "markdown",
   "id": "81cc25aa-8545-46fd-a639-afcd2371f361",
   "metadata": {},
   "source": [
    "Lets solve the problem by introducing **kwargs"
   ]
  },
  {
   "cell_type": "markdown",
   "id": "204ee47c-6e40-456f-8fc7-ee7326f69eb8",
   "metadata": {},
   "source": [
    "# What is python *kwargs?"
   ]
  },
  {
   "cell_type": "markdown",
   "id": "d20400e2-0c94-416b-b2bb-e3de8c3e4c67",
   "metadata": {},
   "source": [
    "it solve the problem on passing keys "
   ]
  },
  {
   "cell_type": "code",
   "execution_count": 12,
   "id": "1e499fec-c71b-4519-8f6a-7f07fe6ca41b",
   "metadata": {},
   "outputs": [],
   "source": [
    "#*kwargs\n",
    "def person(name,**kwargs):\n",
    "    print(name)\n",
    "    print(kwargs)\n",
    "# we are definitely sure that name will pass compulsory but other parameters are optional  "
   ]
  },
  {
   "cell_type": "code",
   "execution_count": 13,
   "id": "bf2853c3-39d9-49e8-9a5c-1096dc81fbdc",
   "metadata": {},
   "outputs": [
    {
     "name": "stdout",
     "output_type": "stream",
     "text": [
      "yogesh\n",
      "{}\n"
     ]
    }
   ],
   "source": [
    "person('yogesh')"
   ]
  },
  {
   "cell_type": "code",
   "execution_count": 14,
   "id": "359f9990-a6a0-4ed4-a455-d39249cc0144",
   "metadata": {},
   "outputs": [],
   "source": [
    "# at this time kwargs return dictionary{} insted of touple() "
   ]
  },
  {
   "cell_type": "code",
   "execution_count": 23,
   "id": "776c542b-ae01-445c-8141-9ed07821be4b",
   "metadata": {},
   "outputs": [
    {
     "name": "stdout",
     "output_type": "stream",
     "text": [
      "yogesh\n",
      "{'age': 25, 'height': '165cm', 'weight': '65kg', 'phnno': '+9779867176736'}\n"
     ]
    }
   ],
   "source": [
    "person('yogesh',age=25,height='165cm',weight='65kg',phnno='+9779867176736')"
   ]
  },
  {
   "cell_type": "code",
   "execution_count": null,
   "id": "5b44eae8-30bf-4cdf-8ae3-593de39f452f",
   "metadata": {},
   "outputs": [],
   "source": []
  }
 ],
 "metadata": {
  "kernelspec": {
   "display_name": "Python 3 (ipykernel)",
   "language": "python",
   "name": "python3"
  },
  "language_info": {
   "codemirror_mode": {
    "name": "ipython",
    "version": 3
   },
   "file_extension": ".py",
   "mimetype": "text/x-python",
   "name": "python",
   "nbconvert_exporter": "python",
   "pygments_lexer": "ipython3",
   "version": "3.12.1"
  }
 },
 "nbformat": 4,
 "nbformat_minor": 5
}
